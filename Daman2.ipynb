{
 "cells": [
  {
   "cell_type": "code",
   "execution_count": 5,
   "metadata": {},
   "outputs": [],
   "source": [
    "text = '''On January 8, Prince Harry and Meghan Markle, the Duke and Duchess of Sussex, unveiled their controversial plan to walk away from royal roles. We intend to step back as 'senior' members of the royal family and work to become financially independent while continuing to fully support her majesty the queen, they said in a joint statement. We now plan to balance our time between the United Kingdom and North America, continuing to honor our duty to the Queen, the commonwealth and our patronages. This geographic balance will enable us to raise our son with an appreciation for the royal tradition into which he was born, while also providing our family with the space to focus on the next chapter, including the launch of our new charitable entity, the statement added. Apparently, the announcement on the Sussex Royal Instagram page blindsided the Queen and other family members who had no idea it was coming, it sent tabloids into overdrive. Meanwhile, the Queen summoned Senior Royals to an emergency summit to discuss the future of the Duke and Duchess of Sussex. Billed as the Sandringham summit, the meeting took place at the Queen's estate in Norfolk and involved Queen Elizabeth II, Harry his father, Prince Charles and his brother Prince William, with Meghan Markle reportedly joining the discussions by phone from Canada. Soon after, the queen released a statement, that said, My family and I are entirely supportive of Harry and Meghan Markle desire to create a new life as a young family. Although we would have preferred them to remain full-time working members of the Royal family, we respect and understand their wish to live a more independent life as a family while remaining a valued part of my family.'''"
   ]
  },
  {
   "cell_type": "code",
   "execution_count": 6,
   "metadata": {},
   "outputs": [],
   "source": [
    "list_of_keyphrases = ['Prince Charles', 'Prince William', 'Meghan Markle', 'United Kingdom', 'North America', 'Duke and Duchess of Sussex', 'Queen Elizabeth II']"
   ]
  },
  {
   "cell_type": "code",
   "execution_count": 17,
   "metadata": {},
   "outputs": [
    {
     "name": "stdout",
     "output_type": "stream",
     "text": [
      "On January 8, Prince Harry and Meghan_Markle, the Duke_and_Duchess_of_Sussex, unveiled their controversial plan to walk away from royal roles. We intend to step back as 'senior' members of the royal family and work to become financially independent while continuing to fully support her majesty the queen, they said in a joint statement. We now plan to balance our time between the United_Kingdom and North_America, continuing to honor our duty to the Queen, the commonwealth and our patronages. This geographic balance will enable us to raise our son with an appreciation for the royal tradition into which he was born, while also providing our family with the space to focus on the next chapter, including the launch of our new charitable entity, the statement added. Apparently, the announcement on the Sussex Royal Instagram page blindsided the Queen and other family members who had no idea it was coming, it sent tabloids into overdrive. Meanwhile, the Queen summoned Senior Royals to an emergency summit to discuss the future of the Duke_and_Duchess_of_Sussex. Billed as the Sandringham summit, the meeting took place at the Queen's estate in Norfolk and involved Queen_Elizabeth_II, Harry his father, Prince_Charles and his brother Prince_William, with Meghan_Markle reportedly joining the discussions by phone from Canada. Soon after, the queen released a statement, that said, My family and I are entirely supportive of Harry and Meghan_Markle desire to create a new life as a young family. Although we would have preferred them to remain full-time working members of the Royal family, we respect and understand their wish to live a more independent life as a family while remaining a valued part of my family.\n"
     ]
    }
   ],
   "source": [
    "for key in list_of_keyphrases:\n",
    "    replace_with = key.replace(' ', '_')\n",
    "    text = text.replace(key, replace_with )\n",
    "print(text)"
   ]
  },
  {
   "cell_type": "code",
   "execution_count": null,
   "metadata": {},
   "outputs": [],
   "source": []
  }
 ],
 "metadata": {
  "kernelspec": {
   "display_name": "Python 3.9.12 64-bit (microsoft store)",
   "language": "python",
   "name": "python3"
  },
  "language_info": {
   "codemirror_mode": {
    "name": "ipython",
    "version": 3
   },
   "file_extension": ".py",
   "mimetype": "text/x-python",
   "name": "python",
   "nbconvert_exporter": "python",
   "pygments_lexer": "ipython3",
   "version": "3.9.12"
  },
  "orig_nbformat": 4,
  "vscode": {
   "interpreter": {
    "hash": "238925688a9beb96bcacca812331b2a8bcf24e8da86596caf6909e7d12dc92ba"
   }
  }
 },
 "nbformat": 4,
 "nbformat_minor": 2
}
